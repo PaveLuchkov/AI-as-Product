{
 "cells": [
  {
   "cell_type": "markdown",
   "id": "4f2da77e",
   "metadata": {},
   "source": [
    "# Loop Control\n",
    "In this pybook you will see how you can control Loop Workflow with CustomAgents (function)"
   ]
  }
 ],
 "metadata": {
  "language_info": {
   "name": "python"
  }
 },
 "nbformat": 4,
 "nbformat_minor": 5
}
