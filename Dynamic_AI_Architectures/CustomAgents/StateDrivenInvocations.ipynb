{
 "cells": [
  {
   "cell_type": "markdown",
   "id": "d140d576",
   "metadata": {},
   "source": [
    "# State Driven Invocations\n",
    "In this pybook you will learn how to make custom logic on invocating agents determinated by State values"
   ]
  }
 ],
 "metadata": {
  "language_info": {
   "name": "python"
  }
 },
 "nbformat": 4,
 "nbformat_minor": 5
}
