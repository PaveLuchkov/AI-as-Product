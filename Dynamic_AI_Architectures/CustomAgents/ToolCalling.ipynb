{
 "cells": [
  {
   "cell_type": "markdown",
   "id": "6833f6a4",
   "metadata": {},
   "source": [
    "# Tool Calling without AI Agent\n",
    "By the end of this tutorial, you will know how to call functions and store results in the State without invoking an LLM."
   ]
  },
  {
   "cell_type": "markdown",
   "id": "8739f01f",
   "metadata": {},
   "source": [
    "## Why it should be useful?\n",
    "Sometimes, calling an LLM is not as effective as using old-school, self-made functions. If you don't want to lose speed on your invocations, you can use a Custom Agent that mimics a real agent to call a function and store its result in the state."
   ]
  },
  {
   "cell_type": "markdown",
   "id": "cbb194f6",
   "metadata": {},
   "source": [
    "Key benefits:\n",
    "*   **Speed:** Direct function calls are orders of magnitude faster (is some cases ~700ms vs ~12,000ms).\n",
    "*   **Cost:** You don't pay for LLM tokens for deterministic tasks.\n",
    "*   **Reliability:** You eliminate the chance of the LLM failing to call the function correctly."
   ]
  },
  {
   "cell_type": "code",
   "execution_count": 314,
   "id": "93cba2ff",
   "metadata": {},
   "outputs": [],
   "source": [
    "from collections.abc import AsyncGenerator\n",
    "import logging\n",
    "\n",
    "from google.adk.runners import Runner\n",
    "from google.adk.sessions import InMemorySessionService\n",
    "from google.genai import types\n",
    "from google.adk.tools.function_tool import FunctionTool\n",
    "from google.adk.tools.tool_context import ToolContext\n",
    "from google.adk.agents import BaseAgent\n",
    "from google.adk.events import Event, EventActions\n",
    "from google.adk.agents.invocation_context import InvocationContext\n"
   ]
  },
  {
   "cell_type": "code",
   "execution_count": 315,
   "id": "37c0c26e",
   "metadata": {},
   "outputs": [],
   "source": [
    "def my_awesome_function(name: str, count: int):\n",
    "  return {\"result\": f\"Hello, {name}! Made {count} times.\"}"
   ]
  },
  {
   "cell_type": "code",
   "execution_count": null,
   "id": "6eb62d19",
   "metadata": {},
   "outputs": [],
   "source": [
    "class CustomAgent(BaseAgent):\n",
    "    \"\"\"Makes a 'my_awesome_function' call\"\"\"\n",
    "\n",
    "    def __init__(self, name: str):\n",
    "        super().__init__(name=name)\n",
    "\n",
    "    async def _run_async_impl(\n",
    "        self, ctx: InvocationContext\n",
    "    ) -> AsyncGenerator[Event, None]:\n",
    "        tool_context_instance = ToolContext(ctx)\n",
    "        tool = FunctionTool(my_awesome_function)\n",
    "        \n",
    "        call_args = {\n",
    "            \"name\": \"Pavel\",\n",
    "            \"count\": 5,\n",
    "        }\n",
    "        logging.info(\n",
    "            f\"[{self.name}] Calling the function\"\n",
    "        )\n",
    "        # Tools converted with FunctionTool are now having .run_async which is alike runnung a runner\n",
    "        result = await tool.run_async(\n",
    "            args=call_args,\n",
    "            tool_context=tool_context_instance\n",
    "        )\n",
    "        # Make a right format for our response of the tool\n",
    "        function_response_part = types.Part.from_function_response(\n",
    "            name=tool.name,\n",
    "            response=result,\n",
    "        )\n",
    "        event_content = types.Content(parts=[function_response_part])\n",
    "\n",
    "        yield Event(\n",
    "            author = self.name,\n",
    "            actions=EventActions(state_delta={\"TESTING\": result}, skip_summarization=True), #To make a response of the Agent as final you can place marker skip_summarization = True\n",
    "            content=event_content\n",
    "        )"
   ]
  },
  {
   "cell_type": "code",
   "execution_count": 317,
   "id": "85ab2947",
   "metadata": {},
   "outputs": [],
   "source": [
    "root_agent = CustomAgent(name=\"Testing_agent\")"
   ]
  },
  {
   "cell_type": "code",
   "execution_count": null,
   "id": "99f8aa75",
   "metadata": {},
   "outputs": [],
   "source": [
    "APP_NAME, USER_ID, SESSION_ID = \"Test\", \"User1\", \"001\"\n",
    "async def setup_session_and_runner():\n",
    "    session_service = InMemorySessionService()\n",
    "    session = await session_service.create_session(app_name=APP_NAME, user_id=USER_ID, session_id=SESSION_ID)\n",
    "    logging.info(f\"Initial session state: {session.state}\")\n",
    "    runner = Runner(\n",
    "        agent=root_agent, # Pass the custom agent\n",
    "        app_name=APP_NAME,\n",
    "        session_service=session_service\n",
    "    )\n",
    "    return session_service, runner"
   ]
  },
  {
   "cell_type": "code",
   "execution_count": 319,
   "id": "b3fb3efc",
   "metadata": {},
   "outputs": [],
   "source": [
    "async def call_agent_async(input: str):\n",
    "    \"\"\"\n",
    "    Sends a new topic to the agent (overwriting the initial one if needed)\n",
    "    and runs the workflow.\n",
    "    \"\"\"\n",
    "\n",
    "    session_service, runner = await setup_session_and_runner()\n",
    "\n",
    "    current_session = await session_service.get_session(app_name=APP_NAME, \n",
    "                                                  user_id=USER_ID, \n",
    "                                                  session_id=SESSION_ID)\n",
    "    if not current_session:\n",
    "        logging.error(\"Session not found!\")\n",
    "        return\n",
    "\n",
    "    content = types.Content(role='user', parts=[types.Part(text=f\"{input}\")])\n",
    "\n",
    "    events = runner.run_async(user_id=USER_ID, session_id=SESSION_ID, new_message=content)\n",
    "\n",
    "    async for event in events:\n",
    "        if event.is_final_response() and event.content and event.content.parts:\n",
    "            first_part = event.content.parts[0]\n",
    "            final_output = \"\"\n",
    "            \n",
    "            if first_part.text:\n",
    "                final_output = first_part.text\n",
    "            elif first_part.function_response:\n",
    "                # Этот блок сработает в твоем примере\n",
    "                response_data = first_part.function_response.response\n",
    "                final_output = f\"Function '{first_part.function_response.name}' returned: {response_data}\"\n",
    "            \n",
    "            logging.info(f\"Final output from [{event.author}]: {final_output}\")\n",
    "\n",
    "    final_session = await session_service.get_session(app_name=APP_NAME, \n",
    "                                                user_id=USER_ID, \n",
    "                                                session_id=SESSION_ID)\n",
    "    print(\"\\n--- Final Session State ---\")\n",
    "    import json\n",
    "    print(json.dumps(final_session.state, indent=2))\n",
    "    print(\"-------------------------\\n\")"
   ]
  },
  {
   "cell_type": "code",
   "execution_count": 320,
   "id": "cf9803ff",
   "metadata": {},
   "outputs": [
    {
     "name": "stdout",
     "output_type": "stream",
     "text": [
      "\n",
      "--- Final Session State ---\n",
      "{\n",
      "  \"TESTING\": {\n",
      "    \"result\": \"Hello, Pavel! Made 5 times.\"\n",
      "  }\n",
      "}\n",
      "-------------------------\n",
      "\n"
     ]
    }
   ],
   "source": [
    "text = \"Any text\"\n",
    "await call_agent_async(text)"
   ]
  }
 ],
 "metadata": {
  "kernelspec": {
   "display_name": "ADKJupiter",
   "language": "python",
   "name": "python3"
  },
  "language_info": {
   "codemirror_mode": {
    "name": "ipython",
    "version": 3
   },
   "file_extension": ".py",
   "mimetype": "text/x-python",
   "name": "python",
   "nbconvert_exporter": "python",
   "pygments_lexer": "ipython3",
   "version": "3.11.11"
  }
 },
 "nbformat": 4,
 "nbformat_minor": 5
}
