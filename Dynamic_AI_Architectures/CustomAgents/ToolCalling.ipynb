{
 "cells": [
  {
   "cell_type": "markdown",
   "id": "6833f6a4",
   "metadata": {},
   "source": [
    "# State Driven Invocations\n",
    "By the end of this book you gonna know how you can call functions and store results in State without calling LLM"
   ]
  }
 ],
 "metadata": {
  "language_info": {
   "name": "python"
  }
 },
 "nbformat": 4,
 "nbformat_minor": 5
}
