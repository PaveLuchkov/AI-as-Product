{
 "cells": [
  {
   "cell_type": "markdown",
   "id": "1379a014",
   "metadata": {},
   "source": [
    "# State Driven Instructions\n",
    "ADK allows developers to create dynamic instructins to your Agents based on the state values"
   ]
  }
 ],
 "metadata": {
  "language_info": {
   "name": "python"
  }
 },
 "nbformat": 4,
 "nbformat_minor": 5
}
