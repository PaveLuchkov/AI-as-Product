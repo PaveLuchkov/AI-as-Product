{
 "cells": [
  {
   "cell_type": "markdown",
   "id": "1379a014",
   "metadata": {},
   "source": [
    "# State Driven Instructions\n",
    "ADK allows developers to create dynamic instructins to your Agents based on the state values"
   ]
  },
  {
   "cell_type": "code",
   "execution_count": null,
   "id": "3c21333c",
   "metadata": {},
   "outputs": [],
   "source": [
    "from google.adk.agents import Agent"
   ]
  },
  {
   "cell_type": "code",
   "execution_count": null,
   "id": "fda4182b",
   "metadata": {},
   "outputs": [],
   "source": [
    "SampleAgent = Agent( #Here is the example of Agent we all love and use\n",
    "    name=\"Name\",\n",
    "    description=\"Description\",\n",
    "    instruction=\"Instruction {string}\", #But here is the use of so called \"Static\" prompt which is not changing on go.\n",
    "    sub_agents=[],\n",
    "    tools=[],\n",
    "    model=\"gemini\",\n",
    "    disallow_transfer_to_parent=True,\n",
    "    disallow_transfer_to_peers=True)"
   ]
  },
  {
   "cell_type": "markdown",
   "id": "23a384d0",
   "metadata": {},
   "source": [
    "In this simple tutorial you gonna know how to make instructions dynamic which will allow you decrease of nesting in prompts of your agents and decrease probability of hallucinations and unnescecary token usage."
   ]
  },
  {
   "cell_type": "markdown",
   "id": "ac97ca64",
   "metadata": {},
   "source": [
    "So, the good thing is ADK already supports state driven instructions based on ctx. All you have to do is to define a simple function"
   ]
  },
  {
   "cell_type": "code",
   "execution_count": null,
   "id": "da4c51bb",
   "metadata": {},
   "outputs": [],
   "source": [
    "from google.adk.agents.readonly_context import ReadonlyContext # import ReadonlyContext which is provided on Agent run"
   ]
  },
  {
   "cell_type": "code",
   "execution_count": null,
   "id": "0802cdcc",
   "metadata": {},
   "outputs": [],
   "source": [
    "def PlannerPrompt(context: ReadonlyContext):\n",
    "    state = context.state\n",
    "    plan_exists = False\n",
    "    if \"Plan\" in state:\n",
    "        plan_exists = True\n",
    "    # or you can define any other custom variables which can be extracted from your state\n",
    "\n",
    "    prompt = f\"\"\"\n",
    "Help user to create their first plan.\n",
    "\"\"\"\n",
    "    if plan_exists:\n",
    "        prompt = \"\"\"\n",
    "Help user to change their plan if they ask for.\n",
    "\"\"\"\n",
    "    return prompt"
   ]
  },
  {
   "cell_type": "code",
   "execution_count": null,
   "id": "06c936ae",
   "metadata": {},
   "outputs": [],
   "source": [
    "SampleAgent = Agent(\n",
    "    name=\"Name\",\n",
    "    description=\"Description\",\n",
    "    instruction=PlannerPrompt, #provide function\n",
    "    sub_agents=[],\n",
    "    tools=[],\n",
    "    model=\"gemini\",\n",
    "    disallow_transfer_to_parent=True,\n",
    "    disallow_transfer_to_peers=True)"
   ]
  }
 ],
 "metadata": {
  "kernelspec": {
   "display_name": "ADKJupiter",
   "language": "python",
   "name": "python3"
  },
  "language_info": {
   "name": "python",
   "version": "3.11.11"
  }
 },
 "nbformat": 4,
 "nbformat_minor": 5
}
