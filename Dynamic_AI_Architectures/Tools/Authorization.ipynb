{
 "cells": [
  {
   "cell_type": "markdown",
   "id": "986fda16",
   "metadata": {},
   "source": [
    "# Custom Authorization\n",
    "This simple tutorial teaches on how to define your own authorization of tools "
   ]
  }
 ],
 "metadata": {
  "language_info": {
   "name": "python"
  }
 },
 "nbformat": 4,
 "nbformat_minor": 5
}
